{
 "cells": [
  {
   "cell_type": "code",
   "execution_count": 51,
   "metadata": {},
   "outputs": [],
   "source": [
    "import math\n",
    "import pandas as pd\n",
    "import numpy as np\n",
    "import matplotlib.pyplot as plt         # for saving classification in P4"
   ]
  },
  {
   "cell_type": "code",
   "execution_count": 1,
   "metadata": {},
   "outputs": [],
   "source": [
    "def kimura(reference_sequence: str, distant_sequence: str) -> float:\n",
    "    \"\"\"The Jukes-Cantor correction for estimating genetic distances\n",
    "    calculated with Hamming distance\n",
    "\n",
    "    Parameters\n",
    "    ----------\n",
    "    referene_sequence: str\n",
    "        A string of nucleotides in a sequence used as a reference\n",
    "        in an alignment with other (i.e. ATGGC-TAG)\n",
    "    distant_sequence: str\n",
    "        A string of nucleotides in a sequence after the alignment\n",
    "        with a reference (i.e. ATG-CTTAG)\n",
    "\n",
    "    Returns\n",
    "    -------\n",
    "    float\n",
    "        The Jukes-Cantor corrected genetic distance using Hamming distance.\n",
    "\n",
    "    \"\"\"\n",
    "    refSeqLen = len(reference_sequence)\n",
    "    distSeqLen = len(distant_sequence)\n",
    "    mutationCounterTransitions = 0\n",
    "    mutationCounterTransversions = 0\n",
    "    extra = 0\n",
    "    transitions = [(\"A\",\"G\"), (\"G\",\"A\"),(\"T\",\"C\"),(\"C\",\"T\")]\n",
    "    for i in range(min(refSeqLen,distSeqLen)):\n",
    "        refEl = reference_sequence[i]\n",
    "        distEl = distant_sequence[i]\n",
    "        if (refEl == \"-\" or distEl == \"-\"):\n",
    "            extra += 1\n",
    "        else:\n",
    "            if refEl != distEl:\n",
    "                if (refEl,distEl) in transitions:\n",
    "                    mutationCounterTransitions += 1\n",
    "                else:\n",
    "                    mutationCounterTransversions += 1\n",
    "    print(mutationCounterTransitions)\n",
    "    print(\"Transversions: \" + str(mutationCounterTransversions))\n",
    "    p = mutationCounterTransitions / (min(refSeqLen,distSeqLen) - extra)\n",
    "    q = mutationCounterTransversions / (min(refSeqLen,distSeqLen) - extra)\n",
    "\n",
    "    correctedDistance = (-1/2) * math.log((1 - 2 * p - q) * math.sqrt(1 - 2 * q))\n",
    "    return correctedDistance"
   ]
  },
  {
   "cell_type": "code",
   "execution_count": 297,
   "metadata": {},
   "outputs": [],
   "source": [
    "# Problem1"
   ]
  },
  {
   "cell_type": "code",
   "execution_count": 3,
   "metadata": {},
   "outputs": [],
   "source": [
    "#1. Jukes Cantor\n",
    "\n",
    "def jukes_cantor(reference_sequence: str, distant_sequence: str) -> float:\n",
    "    \"\"\"The Jukes-Cantor correction for estimating genetic distances\n",
    "    calculated with Hamming distance\n",
    "\n",
    "    Parameters\n",
    "    ----------\n",
    "    referene_sequence: str\n",
    "        A string of nucleotides in a sequence used as a reference\n",
    "        in an alignment with other (i.e. ATGGC-TAG)\n",
    "    distant_sequence: str\n",
    "        A string of nucleotides in a sequence after the alignment\n",
    "        with a reference (i.e. ATG-CTTAG)\n",
    "\n",
    "    Returns\n",
    "    -------\n",
    "    float\n",
    "        The Jukes-Cantor corrected genetic distance using Hamming distance.\n",
    "\n",
    "    \"\"\"\n",
    "    refSeqLen = len(reference_sequence)\n",
    "    distSeqLen = len(distant_sequence)\n",
    "    mutationCounter = 0\n",
    "    extra = 0\n",
    "    for i in range(min(refSeqLen,distSeqLen)):\n",
    "        refEl = reference_sequence[i]\n",
    "        distEl = distant_sequence[i]\n",
    "        if (refEl == \"-\" or distEl == \"-\"):\n",
    "            extra += 1\n",
    "        else:\n",
    "            if refEl != distEl:\n",
    "                mutationCounter += 1\n",
    "    p = mutationCounter / (min(refSeqLen,distSeqLen) - extra)\n",
    "    correctedDistance = (-3.0/4.0) * math.log(1 - ((4.0/3.0) * p))\n",
    "    return correctedDistance"
   ]
  },
  {
   "cell_type": "code",
   "execution_count": 15,
   "metadata": {},
   "outputs": [],
   "source": [
    "# 2. Solution\n",
    "\n",
    "def mutationDistanceScatter(file):\n",
    "    c = 0\n",
    "    dataList = []\n",
    "    seqList = []\n",
    "    with open(file,'r') as f:\n",
    "        for line in f.readlines():\n",
    "            if c % 2 == 0:\n",
    "                dataList.append(line)\n",
    "            else:\n",
    "                seqList.append(line)\n",
    "            c += 1\n",
    "\n",
    "    parsedData = [] # [[naziv, lokacija, datetime, seq]]\n",
    "    for elt in range(len(dataList)):\n",
    "        parsedElt = dataList[elt][1:len(dataList[elt])-1].split(\"|\")\n",
    "        parsedElt[2] = pd.to_datetime(parsedElt[2])\n",
    "        parsedElt.append(seqList[elt][0:len(seqList[elt])-1])\n",
    "        parsedData.append(parsedElt)\n",
    "\n",
    "    times = [] # [datetime]\n",
    "    for timestep in parsedData:\n",
    "        times.append(timestep[2])\n",
    "\n",
    "    timeOfFirstInfection = min(times)\n",
    "\n",
    "    firstVirus = []\n",
    "    for elt in parsedData:\n",
    "        if timeOfFirstInfection == elt[2]:\n",
    "            firstVirus = elt\n",
    "\n",
    "    jukesCantorDistances = []\n",
    "    for elt in parsedData:\n",
    "        jukesCantorDistances.append([jukes_cantor(firstVirus[3], elt[3]),elt[2] - timeOfFirstInfection])\n",
    "\n",
    "    values = []\n",
    "    times = []\n",
    "    for elt in jukesCantorDistances:\n",
    "        values.append(elt[0])\n",
    "        times.append(elt[1].days)\n",
    "\n",
    "    plt.scatter(times,values, s=3)\n",
    "\n",
    "    # Create lin regression\n",
    "    f = np.polyfit(times[1:len(times)],values[1:len(values)],1)\n",
    "    # Result\n",
    "    regressionLine = np.poly1d(f)\n",
    "\n",
    "    valuesOfRegFunction = []\n",
    "    for elt in times:\n",
    "        valuesOfRegFunction.append(regressionLine(elt))\n",
    "    plt.plot(times,valuesOfRegFunction, color = \"r\", label = \"Regression line\")\n",
    "    plt.xlabel(\"Time elapsed\")\n",
    "    plt.ylabel(\"Genetic distance\")\n",
    "    plt.legend()\n",
    "    mutationsPerGenomePerDay = regressionLine[1]\n",
    "    muutationsPerNucleotidePerDay = regressionLine[1] / len(seqList[0])\n",
    "\n",
    "    return [mutationsPerGenomePerDay,muutationsPerNucleotidePerDay,regressionLine]"
   ]
  },
  {
   "cell_type": "code",
   "execution_count": 16,
   "metadata": {},
   "outputs": [
    {
     "data": {
      "image/png": "[encoded data removed]",
      "text/plain": [
       "<Figure size 640x480 with 1 Axes>"
      ]
     },
     "metadata": {},
     "output_type": "display_data"
    }
   ],
   "source": [
    "# 3. Finish\n",
    "\n",
    "dataList = mutationDistanceScatter(\"data/p1-sars-cov-2-variants.fasta\")\n"
   ]
  },
  {
   "cell_type": "code",
   "execution_count": 17,
   "metadata": {},
   "outputs": [],
   "source": [
    "sars_cov_2_per_genome_per_day = dataList[0]\n",
    "sars_cov_2_per_nt_per_day = dataList[1]"
   ]
  },
  {
   "cell_type": "code",
   "execution_count": 10,
   "metadata": {},
   "outputs": [
    {
     "data": {
      "text/plain": [
       "2.1637873131225614e-06"
      ]
     },
     "execution_count": 10,
     "metadata": {},
     "output_type": "execute_result"
    }
   ],
   "source": [
    "sars_cov_2_per_genome_per_day"
   ]
  },
  {
   "cell_type": "code",
   "execution_count": 30,
   "metadata": {},
   "outputs": [
    {
     "data": {
      "text/plain": [
       "7.285572271181647e-11"
      ]
     },
     "execution_count": 30,
     "metadata": {},
     "output_type": "execute_result"
    }
   ],
   "source": [
    "sars_cov_2_per_nt_per_day"
   ]
  },
  {
   "cell_type": "code",
   "execution_count": null,
   "metadata": {},
   "outputs": [],
   "source": [
    "# Problem2"
   ]
  },
  {
   "cell_type": "code",
   "execution_count": 18,
   "metadata": {},
   "outputs": [
    {
     "data": {
      "image/png": "[encoded data removed]",
      "text/plain": [
       "<Figure size 640x480 with 1 Axes>"
      ]
     },
     "metadata": {},
     "output_type": "display_data"
    }
   ],
   "source": [
    "# Ebola\n",
    "ebolaData = mutationDistanceScatter(\"data/p2-ebola-viruses.fasta\")"
   ]
  },
  {
   "cell_type": "code",
   "execution_count": 20,
   "metadata": {},
   "outputs": [],
   "source": [
    "# Ebola finish\n",
    "ebola_per_genome_per_day = ebolaData[0]\n",
    "ebola_per_nt_per_day = ebolaData[1]"
   ]
  },
  {
   "cell_type": "code",
   "execution_count": 21,
   "metadata": {},
   "outputs": [
    {
     "data": {
      "image/png": "[encoded data removed]",
      "text/plain": [
       "<Figure size 640x480 with 1 Axes>"
      ]
     },
     "metadata": {},
     "output_type": "display_data"
    }
   ],
   "source": [
    "# Zika\n",
    "zikaData = mutationDistanceScatter(\"data/p2-zika-viruses.fasta\")"
   ]
  },
  {
   "cell_type": "code",
   "execution_count": 22,
   "metadata": {},
   "outputs": [],
   "source": [
    "# Zika finish\n",
    "zika_per_genome_per_day = zikaData[0]\n",
    "zika_per_nt_per_day = zikaData[1]"
   ]
  },
  {
   "cell_type": "code",
   "execution_count": 23,
   "metadata": {},
   "outputs": [
    {
     "name": "stdout",
     "output_type": "stream",
     "text": [
      "SarsCov genome per day: 2.1637873131225614e-06\n",
      "Zika genome per day: 3.1971576332302502e-06\n",
      "Ebola genome per day: 2.0918446638690037e-06\n"
     ]
    }
   ],
   "source": [
    "print(\"SarsCov genome per day: \" + str(sars_cov_2_per_genome_per_day))\n",
    "print(\"Zika genome per day: \" + str(zika_per_genome_per_day))\n",
    "print(\"Ebola genome per day: \" + str(ebola_per_genome_per_day))"
   ]
  },
  {
   "cell_type": "code",
   "execution_count": 24,
   "metadata": {},
   "outputs": [
    {
     "name": "stdout",
     "output_type": "stream",
     "text": [
      "SarsCov nucleotide per day: 7.284498091578782e-11\n",
      "Zika nucleotide per day: 3.012491880929285e-10\n",
      "Ebola nucleotide per day: 1.1268893303178386e-10\n"
     ]
    }
   ],
   "source": [
    "print(\"SarsCov nucleotide per day: \" + str(sars_cov_2_per_nt_per_day))\n",
    "print(\"Zika nucleotide per day: \" + str(zika_per_nt_per_day))\n",
    "print(\"Ebola nucleotide per day: \" + str(ebola_per_nt_per_day))"
   ]
  },
  {
   "cell_type": "code",
   "execution_count": 71,
   "metadata": {},
   "outputs": [],
   "source": [
    "# Finish\n",
    "mutation_comments = \"\"\"\n",
    "    Comparing SarsCov2 only to Zika and Ebola shows us that covid is on the slower side of mutations, it also has less mutations per nucleotide than both viruses. \n",
    "    Zika virus stands out as it is the one that mutates the fastest compared to Ebola and SarsCov2. SarsCov2s slow mutation rate could be atributed to its self correcting mechanism.\n",
    "\"\"\""
   ]
  },
  {
   "cell_type": "code",
   "execution_count": 27,
   "metadata": {},
   "outputs": [],
   "source": [
    "# 3. Naloga \n",
    "gene_locations = {\n",
    "    'S': (21462, 25284),\n",
    "    'E': (26144, 26372),\n",
    "    'M': (26422, 27091),\n",
    "    'N': (28173, 29433)\n",
    "}\n",
    "\n",
    "alpha_variants  = ['EPI_ISL_2789189', 'EPI_ISL_2789042', 'EPI_ISL_1491060', 'EPI_ISL_1402029', 'EPI_ISL_6950370',\n",
    "                    'EPI_ISL_1625411', 'EPI_ISL_1335421', 'EPI_ISL_2644151', 'EPI_ISL_2982899', 'EPI_ISL_2644156',\n",
    "                    'EPI_ISL_2788965', 'EPI_ISL_2789059', 'EPI_ISL_2532608', 'EPI_ISL_2644516', 'EPI_ISL_2886579',\n",
    "                    'EPI_ISL_3316487', 'EPI_ISL_2886574', 'EPI_ISL_2532626', 'EPI_ISL_2886496', 'EPI_ISL_2492172',\n",
    "                    'EPI_ISL_2644108', 'EPI_ISL_1402024', 'EPI_ISL_2492224', 'EPI_ISL_2491984', 'EPI_ISL_2789018',\n",
    "                    'EPI_ISL_2886831', 'EPI_ISL_1491132', 'EPI_ISL_2492034', 'EPI_ISL_1266392', 'EPI_ISL_2983056']\n",
    "\n",
    "delta_variants = ['EPI_ISL_3039380', 'EPI_ISL_4271386', 'EPI_ISL_5213082', 'EPI_ISL_3316705','EPI_ISL_3316997',\n",
    "                    'EPI_ISL_4251175', 'EPI_ISL_3471254', 'EPI_ISL_4271571', 'EPI_ISL_4270964', 'EPI_ISL_3317189',\n",
    "                    'EPI_ISL_3829145', 'EPI_ISL_3317102', 'EPI_ISL_4923915', 'EPI_ISL_3829384', 'EPI_ISL_4923898',\n",
    "                    'EPI_ISL_4270689', 'EPI_ISL_4270627', 'EPI_ISL_3828666', 'EPI_ISL_4253193', 'EPI_ISL_3828993',\n",
    "                    'EPI_ISL_3039412', 'EPI_ISL_4923029', 'EPI_ISL_4251446', 'EPI_ISL_4271300', 'EPI_ISL_4271597',\n",
    "                    'EPI_ISL_4271322', 'EPI_ISL_4922967', 'EPI_ISL_4251202', 'EPI_ISL_4251164', 'EPI_ISL_4270961',\n",
    "                    'EPI_ISL_4270530', 'EPI_ISL_4270924', 'EPI_ISL_3829530', 'EPI_ISL_3828321', 'EPI_ISL_4271408',\n",
    "                    'EPI_ISL_4271598', 'EPI_ISL_4924026', 'EPI_ISL_3316743']"
   ]
  },
  {
   "cell_type": "code",
   "execution_count": 28,
   "metadata": {},
   "outputs": [],
   "source": [
    "# 1. Preparing data\n",
    "c = 0\n",
    "dataList = []\n",
    "seqList = []\n",
    "with open(\"data/p1-sars-cov-2-variants.fasta\",'r') as f:\n",
    "    for line in f.readlines():\n",
    "        if c % 2 == 0:\n",
    "            dataList.append(line)\n",
    "        else:\n",
    "            seqList.append(line)\n",
    "        c += 1\n",
    "\n",
    "parsedData = [] # [[naziv, lokacija, datetime, seq]]\n",
    "for elt in range(len(dataList)):\n",
    "    parsedElt = dataList[elt][1:len(dataList[elt])-1].split(\"|\")\n",
    "    parsedElt[2] = pd.to_datetime(parsedElt[2])\n",
    "    parsedElt.append(seqList[elt][0:len(seqList[elt])-1])\n",
    "    parsedData.append(parsedElt)\n",
    "\n",
    "times = [] # [datetime]\n",
    "for timestep in parsedData:\n",
    "    times.append(timestep[2])\n",
    "\n",
    "timeOfFirstInfection = min(times)\n",
    "\n",
    "firstVirus = []\n",
    "for elt in parsedData:\n",
    "    if timeOfFirstInfection == elt[2]:\n",
    "        firstVirus = elt\n",
    "\n",
    "alpha_parsedVariants = []\n",
    "delta_parsedVariants = []\n",
    "\n",
    "for elt in parsedData:\n",
    "    if elt[0] in alpha_variants:\n",
    "        alpha_parsedVariants.append(elt)\n",
    "    elif elt[0] in delta_variants:\n",
    "        delta_parsedVariants.append(elt)"
   ]
  },
  {
   "cell_type": "code",
   "execution_count": 29,
   "metadata": {},
   "outputs": [],
   "source": [
    "# 2. Get mutation occurances\n",
    "\n",
    "def findMutationOccurances(variants, firstVirus):\n",
    "    hDistancesNuc = []\n",
    "    for x in variants:\n",
    "        nucDistance = []\n",
    "        virus = x[3]\n",
    "        for elt in range(len(virus)):\n",
    "            nucDistance.append(d(firstVirus[3][elt], virus[elt]))\n",
    "        hDistancesNuc.append(nucDistance)\n",
    "    finalNucDistances = hDistancesNuc[0]\n",
    "    for i in range(1, len(hDistancesNuc)):\n",
    "        for j in range(len(hDistancesNuc[i])):\n",
    "            finalNucDistances[j] += hDistancesNuc[i][j] \n",
    "    for i in range(len(finalNucDistances)):\n",
    "        finalNucDistances[i] = finalNucDistances[i] / len(hDistancesNuc)    \n",
    "    return finalNucDistances\n",
    "\n",
    "def d(n1, n2):\n",
    "\tif n1 == n2:\n",
    "\t\treturn 0\n",
    "\telse:\n",
    "\t\treturn 1\n",
    "\n",
    "alphaMutationOccurances = findMutationOccurances(alpha_parsedVariants, firstVirus)\n",
    "deltaMutationOccurances = findMutationOccurances(delta_parsedVariants, firstVirus)"
   ]
  },
  {
   "cell_type": "code",
   "execution_count": 34,
   "metadata": {},
   "outputs": [
    {
     "data": {
      "text/plain": [
       "29703"
      ]
     },
     "execution_count": 34,
     "metadata": {},
     "output_type": "execute_result"
    }
   ],
   "source": [
    "len(deltaMutationOccurances)"
   ]
  },
  {
   "cell_type": "code",
   "execution_count": 48,
   "metadata": {},
   "outputs": [
    {
     "data": {
      "text/plain": [
       "Text(0.5, 0.01, 'Mutation occurances')"
      ]
     },
     "execution_count": 48,
     "metadata": {},
     "output_type": "execute_result"
    },
    {
     "data": {
      "image/png": "[encoded data removed]",
      "text/plain": [
       "<Figure size 800x800 with 2 Axes>"
      ]
     },
     "metadata": {},
     "output_type": "display_data"
    }
   ],
   "source": [
    "# 4. Plot finish\n",
    "figure, figures = plt.subplots(1, 2,figsize=(8, 8))\n",
    "axis = [i for i in range(20000, len(deltaMutationOccurances))]\n",
    "figures[0].plot(alphaMutationOccurances[20000:len(alphaMutationOccurances)],axis)\n",
    "figures[0].plot((0,0),(21462, 25284), label = \"S\", linewidth = 4)\n",
    "figures[0].plot((0,0),(26144, 26372),label = \"E\", linewidth = 4)\n",
    "figures[0].plot((0,0),(26422, 27091),label = \"M\", linewidth = 4)\n",
    "figures[0].plot((0,0),(28173, 29433),label = \"N\", linewidth = 4)\n",
    "figures[0].legend(loc = \"lower right\")\n",
    "\n",
    "figures[1].plot(deltaMutationOccurances[20000:len(deltaMutationOccurances)],axis)\n",
    "figures[1].plot((0,0),(21462, 25284), label = \"S\", linewidth = 4)\n",
    "figures[1].plot((0,0),(26144, 26372),label = \"E\", linewidth = 4)\n",
    "figures[1].plot((0,0),(26422, 27091),label = \"M\", linewidth = 4)\n",
    "figures[1].plot((0,0),(28173, 29433),label = \"N\", linewidth = 4)\n",
    "figures[1].legend(loc = \"lower right\")\n",
    "figures[0].set_title(\"Alpha variant\")\n",
    "figures[1].set_title(\"Delta variant\")\n",
    "figure.supylabel(\"Nuclei indices\")\n",
    "figure.supxlabel(\"Mutation occurances\")\n"
   ]
  },
  {
   "cell_type": "code",
   "execution_count": 302,
   "metadata": {},
   "outputs": [],
   "source": [
    "# 5. Same mutations\n",
    "vitalMutations = []\n",
    "sameMutation = \"\"\n",
    "for i in range(21462,25284):\n",
    "    # finds vital mutations on both nucleotides\n",
    "    if alphaMutationOccurances[i] >= 0.5 and deltaMutationOccurances[i] >= 0.5:\n",
    "        vitalMutations.append(i)\n",
    "    # finds the same mutation\n",
    "    if alphaMutationOccurances[i] == 1 and deltaMutationOccurances[i] == 1 and delta_parsedVariants[0][3][i] == alpha_parsedVariants[0][3][i]:\n",
    "        sameMutation = i"
   ]
  },
  {
   "cell_type": "code",
   "execution_count": 290,
   "metadata": {},
   "outputs": [],
   "source": [
    "# 6. Mutations in both variants finish\n",
    "mutations_in_both_variants = [23302,23503]\n",
    "same_mutation = \"A23302G\""
   ]
  },
  {
   "cell_type": "code",
   "execution_count": 305,
   "metadata": {},
   "outputs": [],
   "source": [
    "variant_comments=\"\"\"\n",
    "    Since there is a low ammount of vital mutations in both variants I would say delta evolved independently. \n",
    "    Sites with no detected mutations are part of original sequence dna.\n",
    "\"\"\""
   ]
  },
  {
   "cell_type": "code",
   "execution_count": null,
   "metadata": {},
   "outputs": [],
   "source": [
    "# 4. naloga"
   ]
  },
  {
   "cell_type": "code",
   "execution_count": 317,
   "metadata": {},
   "outputs": [],
   "source": [
    "import json\n",
    "import csv\n",
    "\n",
    "variants = {}\n",
    "f = open('data/variants.json')\n",
    "data = json.load(f)\n",
    "for variant in data:\n",
    "    nonsynonymous = []\n",
    "    for gene in data[variant][\"nonsynonymous\"]:\n",
    "        nonsynonymous.append(gene)\n",
    "    variants[variant] = nonsynonymous\n",
    "f.close()\n",
    "dataList = []\n",
    "seqList = []\n",
    "with open(\"data/p4-slo-spike-proteins.fasta\",'r') as f:\n",
    "    for line in f.readlines():\n",
    "        if c % 2 == 0:\n",
    "            dataList.append(line)\n",
    "        else:\n",
    "            seqList.append(line)\n",
    "        c += 1\n",
    "\n",
    "parsedData = [] # [[naziv, lokacija, datetime, seq]]\n",
    "for elt in range(len(dataList)):\n",
    "    parsedElt = dataList[elt][1:len(dataList[elt])-1].split(\"|\")\n",
    "    parsedElt[2] = pd.to_datetime(parsedElt[2])\n",
    "    parsedElt.append(seqList[elt][0:len(seqList[elt])-1])\n",
    "    parsedData.append(parsedElt)"
   ]
  },
  {
   "cell_type": "code",
   "execution_count": 310,
   "metadata": {},
   "outputs": [],
   "source": [
    "def takeThird(elt):\n",
    "    return elt[2]\n",
    "parsedData.sort(key = takeThird)\n"
   ]
  },
  {
   "cell_type": "code",
   "execution_count": 318,
   "metadata": {},
   "outputs": [],
   "source": [
    "def parseMutations(mutations):\n",
    "\n",
    "    mutations2 = []\n",
    "    for x in mutations:\n",
    "        if x['gene'] == 'S':\n",
    "            mutations2.append(x)\n",
    "    return mutations2"
   ]
  },
  {
   "cell_type": "code",
   "execution_count": 319,
   "metadata": {},
   "outputs": [],
   "source": [
    "def getBestMatchingSpikeName(mutations):\n",
    "    mutations = parseMutations(mutations)\n",
    "    maxImena = []\n",
    "    maxVsote = 0\n",
    "    vsota = 0\n",
    "    for x in parsedData:\n",
    "        vsota = 0\n",
    "        sequence = x[3]\n",
    "        stMutacij = len(mutations)\n",
    "        for mut in mutations:\n",
    "            gene = mut['gene']\n",
    "            pos = mut['pos'] - 1\n",
    "            mutatedIn = mut['right']\n",
    "            if sequence[pos] == mutatedIn:\n",
    "                vsota += 1\n",
    "        vsota = vsota / stMutacij\n",
    "        maxImena.append([vsota,x[1]]) \n",
    "    return [maxImena]"
   ]
  },
  {
   "cell_type": "code",
   "execution_count": 320,
   "metadata": {},
   "outputs": [],
   "source": [
    "assignedMutations = {}\n",
    "noMutations = []\n",
    "for key in variants.keys():\n",
    "    mutationList = variants[key]\n",
    "    [maxVal] = getBestMatchingSpikeName(mutationList)\n",
    "    assignedMutations[key] = maxVal\n",
    "for x in parsedData:\n",
    "    ime = x[1]\n",
    "    obstaja = False\n",
    "    for y in assignedMutations:\n",
    "        for i in y:\n",
    "            if ime in i:\n",
    "                obstaja = True\n",
    "    if obstaja == False:\n",
    "        noMutations.append(ime)"
   ]
  },
  {
   "cell_type": "code",
   "execution_count": 321,
   "metadata": {},
   "outputs": [],
   "source": [
    "mutacije = {}\n",
    "for x in assignedMutations.keys():\n",
    "    for elt in assignedMutations[x]:\n",
    "        if elt[1] not in mutacije.keys():\n",
    "            mutacije[elt[1]] = [x, elt[0]]\n",
    "        else:\n",
    "            if mutacije[elt[1]][1] < elt[0]:\n",
    "                mutacije[elt[1]] = [x, elt[0]]\n",
    "for x in mutacije.keys():\n",
    "    if mutacije[x][1] <= 0.5:\n",
    "        mutacije[x] = [\"UNKNOWN\", mutacije[x][1]]\n",
    "    if mutacije[x][1] == 0:\n",
    "        print(x)\n",
    "        mutacije[x] = [\"NO_MUTATIONS\", mutacije[x][1]]                "
   ]
  },
  {
   "cell_type": "code",
   "execution_count": 322,
   "metadata": {},
   "outputs": [],
   "source": [
    "file = open('problem4-classification.csv', 'w', newline = \"\")\n",
    "writer = csv.writer(file)\n",
    "for x in mutacije.keys():\n",
    "    id = x\n",
    "    variant = mutacije[x][0]\n",
    "    writer.writerow([str(id),variant])\n",
    "file.close()"
   ]
  },
  {
   "cell_type": "code",
   "execution_count": 323,
   "metadata": {},
   "outputs": [],
   "source": [
    "plot_data = []\n"
   ]
  },
  {
   "cell_type": "code",
   "execution_count": 324,
   "metadata": {},
   "outputs": [],
   "source": [
    "for x in mutacije.keys():\n",
    "    id = x\n",
    "    variant = mutacije[x][0]\n",
    "    for elt in parsedData:\n",
    "        if elt[1] == id:\n",
    "            \n",
    "            plot_data.append([variant, elt[2].to_period('M')])"
   ]
  },
  {
   "cell_type": "code",
   "execution_count": 325,
   "metadata": {},
   "outputs": [],
   "source": [
    "def takeSec(elt):\n",
    "    return elt[1]\n",
    "plot_data.sort(key = takeSec)"
   ]
  },
  {
   "cell_type": "code",
   "execution_count": 326,
   "metadata": {},
   "outputs": [],
   "source": [
    "sezDatumov = []\n",
    "sezVarjant = []"
   ]
  },
  {
   "cell_type": "code",
   "execution_count": 327,
   "metadata": {},
   "outputs": [],
   "source": [
    "for elt in plot_data:\n",
    "    if elt[1] not in sezDatumov:\n",
    "        sezDatumov.append(elt[1])\n",
    "    if elt[0] not in sezVarjant:\n",
    "        sezVarjant.append(elt[0])"
   ]
  },
  {
   "cell_type": "code",
   "execution_count": 328,
   "metadata": {},
   "outputs": [],
   "source": [
    "fin = []\n",
    "for variant in sezVarjant:\n",
    "    tmp = []\n",
    "    for datum in sezDatumov:\n",
    "        vsota = 0\n",
    "        for elt in plot_data:\n",
    "            if elt[0] == variant and elt[1] == datum:\n",
    "                vsota += 1\n",
    "        tmp.append(vsota)\n",
    "\n",
    "    fin.append(tmp)"
   ]
  },
  {
   "cell_type": "code",
   "execution_count": 329,
   "metadata": {},
   "outputs": [],
   "source": [
    "vsote = []\n",
    "for x in range(len(fin[0])):\n",
    "    vsota = 0\n",
    "    for elt in range(len(fin)):\n",
    "        vsota += fin[elt][x] \n",
    "    vsote.append(vsota)\n"
   ]
  },
  {
   "cell_type": "code",
   "execution_count": 330,
   "metadata": {},
   "outputs": [],
   "source": [
    "for x in range(len(vsote)):\n",
    "    for elt in range(len(fin)):\n",
    "        fin[elt][x] = fin[elt][x] / vsote[x]"
   ]
  },
  {
   "cell_type": "code",
   "execution_count": 331,
   "metadata": {},
   "outputs": [],
   "source": [
    "final_plot_data = []"
   ]
  },
  {
   "cell_type": "code",
   "execution_count": 332,
   "metadata": {},
   "outputs": [],
   "source": [
    "for elt in range(len(sezDatumov)):\n",
    "    sezDatumov[elt] = str(sezDatumov[elt])"
   ]
  },
  {
   "cell_type": "code",
   "execution_count": 333,
   "metadata": {},
   "outputs": [
    {
     "data": {
      "text/plain": [
       "<matplotlib.legend.Legend at 0x288a6b86bf0>"
      ]
     },
     "execution_count": 333,
     "metadata": {},
     "output_type": "execute_result"
    },
    {
     "data": {
      "image/png": "[encoded data removed]",
      "text/plain": [
       "<Figure size 2500x500 with 1 Axes>"
      ]
     },
     "metadata": {},
     "output_type": "display_data"
    }
   ],
   "source": [
    "plt.figure(figsize=(25, 5))\n",
    "plt.stackplot(sezDatumov, fin, labels = sezVarjant)\n",
    "plt.legend()\n"
   ]
  },
  {
   "cell_type": "code",
   "execution_count": null,
   "metadata": {},
   "outputs": [],
   "source": [
    "# 5. naloga"
   ]
  },
  {
   "cell_type": "code",
   "execution_count": 49,
   "metadata": {},
   "outputs": [],
   "source": [
    "def mutationDistanceScatterKimura(file):\n",
    "    c = 0\n",
    "    dataList = []\n",
    "    seqList = []\n",
    "    with open(file,'r') as f:\n",
    "        for line in f.readlines():\n",
    "            if c % 2 == 0:\n",
    "                dataList.append(line)\n",
    "            else:\n",
    "                seqList.append(line)\n",
    "            c += 1\n",
    "\n",
    "    parsedData = [] # [[naziv, lokacija, datetime, seq]]\n",
    "    for elt in range(len(dataList)):\n",
    "        parsedElt = dataList[elt][1:len(dataList[elt])-1].split(\"|\")\n",
    "        parsedElt[2] = pd.to_datetime(parsedElt[2])\n",
    "        parsedElt.append(seqList[elt][0:len(seqList[elt])-1])\n",
    "        parsedData.append(parsedElt)\n",
    "\n",
    "    times = [] # [datetime]\n",
    "    for timestep in parsedData:\n",
    "        times.append(timestep[2])\n",
    "\n",
    "    timeOfFirstInfection = min(times)\n",
    "\n",
    "    firstVirus = []\n",
    "    for elt in parsedData:\n",
    "        if timeOfFirstInfection == elt[2]:\n",
    "            firstVirus = elt\n",
    "\n",
    "    jukesCantorDistances = []\n",
    "    for elt in parsedData:\n",
    "        jukesCantorDistances.append([kimura(firstVirus[3], elt[3]),elt[2] - timeOfFirstInfection])\n",
    "\n",
    "    values = []\n",
    "    times = []\n",
    "    for elt in jukesCantorDistances:\n",
    "        values.append(elt[0])\n",
    "        times.append(elt[1].days)\n",
    "\n",
    "    plt.scatter(times,values, s=3)\n",
    "\n",
    "    # Create lin regression\n",
    "    f = np.polyfit(times[1:len(times)],values[1:len(values)],1)\n",
    "    # Result\n",
    "    regressionLine = np.poly1d(f)\n",
    "\n",
    "    valuesOfRegFunction = []\n",
    "    for elt in times:\n",
    "        valuesOfRegFunction.append(regressionLine(elt))\n",
    "    plt.plot(times,valuesOfRegFunction, color = \"r\")\n",
    "    \n",
    "    mutationsPerGenomePerDay = regressionLine[1]\n",
    "    muutationsPerNucleotidePerDay = regressionLine[1] / len(seqList[0])\n",
    "\n",
    "    return [mutationsPerGenomePerDay,muutationsPerNucleotidePerDay,regressionLine]"
   ]
  },
  {
   "cell_type": "code",
   "execution_count": 50,
   "metadata": {},
   "outputs": [
    {
     "name": "stdout",
     "output_type": "stream",
     "text": [
      "22\n",
      "Transversions: 13\n",
      "19\n",
      "Transversions: 18\n",
      "20\n",
      "Transversions: 14\n",
      "23\n",
      "Transversions: 12\n",
      "19\n",
      "Transversions: 13\n",
      "22\n",
      "Transversions: 13\n",
      "23\n",
      "Transversions: 13\n",
      "25\n",
      "Transversions: 11\n",
      "23\n",
      "Transversions: 17\n",
      "25\n",
      "Transversions: 15\n",
      "18\n",
      "Transversions: 12\n",
      "27\n",
      "Transversions: 17\n",
      "22\n",
      "Transversions: 13\n",
      "25\n",
      "Transversions: 14\n",
      "22\n",
      "Transversions: 12\n",
      "23\n",
      "Transversions: 14\n",
      "25\n",
      "Transversions: 13\n",
      "28\n",
      "Transversions: 14\n",
      "29\n",
      "Transversions: 11\n",
      "20\n",
      "Transversions: 13\n",
      "22\n",
      "Transversions: 14\n",
      "23\n",
      "Transversions: 12\n",
      "25\n",
      "Transversions: 12\n",
      "25\n",
      "Transversions: 12\n",
      "18\n",
      "Transversions: 12\n",
      "23\n",
      "Transversions: 14\n",
      "23\n",
      "Transversions: 16\n",
      "22\n",
      "Transversions: 14\n",
      "23\n",
      "Transversions: 13\n",
      "24\n",
      "Transversions: 14\n",
      "25\n",
      "Transversions: 13\n",
      "30\n",
      "Transversions: 16\n",
      "24\n",
      "Transversions: 15\n",
      "20\n",
      "Transversions: 16\n",
      "20\n",
      "Transversions: 14\n",
      "21\n",
      "Transversions: 18\n",
      "24\n",
      "Transversions: 11\n",
      "23\n",
      "Transversions: 19\n",
      "27\n",
      "Transversions: 13\n",
      "23\n",
      "Transversions: 13\n",
      "22\n",
      "Transversions: 15\n",
      "22\n",
      "Transversions: 15\n",
      "23\n",
      "Transversions: 13\n",
      "24\n",
      "Transversions: 16\n",
      "23\n",
      "Transversions: 12\n",
      "23\n",
      "Transversions: 13\n",
      "23\n",
      "Transversions: 14\n",
      "24\n",
      "Transversions: 15\n",
      "22\n",
      "Transversions: 13\n",
      "22\n",
      "Transversions: 11\n",
      "25\n",
      "Transversions: 13\n",
      "24\n",
      "Transversions: 13\n",
      "26\n",
      "Transversions: 15\n",
      "21\n",
      "Transversions: 19\n",
      "23\n",
      "Transversions: 14\n",
      "25\n",
      "Transversions: 9\n",
      "22\n",
      "Transversions: 17\n",
      "28\n",
      "Transversions: 15\n",
      "27\n",
      "Transversions: 13\n",
      "29\n",
      "Transversions: 12\n",
      "23\n",
      "Transversions: 18\n",
      "22\n",
      "Transversions: 13\n",
      "22\n",
      "Transversions: 19\n",
      "21\n",
      "Transversions: 14\n",
      "23\n",
      "Transversions: 12\n",
      "23\n",
      "Transversions: 15\n",
      "25\n",
      "Transversions: 12\n",
      "22\n",
      "Transversions: 14\n",
      "23\n",
      "Transversions: 8\n",
      "17\n",
      "Transversions: 9\n",
      "23\n",
      "Transversions: 8\n",
      "24\n",
      "Transversions: 8\n",
      "22\n",
      "Transversions: 13\n",
      "27\n",
      "Transversions: 17\n",
      "27\n",
      "Transversions: 17\n",
      "0\n",
      "Transversions: 0\n",
      "0\n",
      "Transversions: 0\n",
      "2\n",
      "Transversions: 2\n",
      "3\n",
      "Transversions: 0\n",
      "0\n",
      "Transversions: 0\n",
      "1\n",
      "Transversions: 0\n",
      "0\n",
      "Transversions: 0\n",
      "1\n",
      "Transversions: 0\n",
      "4\n",
      "Transversions: 5\n",
      "2\n",
      "Transversions: 0\n",
      "4\n",
      "Transversions: 0\n",
      "4\n",
      "Transversions: 0\n",
      "3\n",
      "Transversions: 0\n",
      "3\n",
      "Transversions: 0\n",
      "3\n",
      "Transversions: 0\n",
      "4\n",
      "Transversions: 0\n",
      "0\n",
      "Transversions: 1\n",
      "4\n",
      "Transversions: 0\n",
      "1\n",
      "Transversions: 1\n",
      "10\n",
      "Transversions: 1\n",
      "0\n",
      "Transversions: 1\n",
      "1\n",
      "Transversions: 3\n",
      "0\n",
      "Transversions: 1\n",
      "5\n",
      "Transversions: 0\n",
      "3\n",
      "Transversions: 2\n",
      "4\n",
      "Transversions: 2\n",
      "8\n",
      "Transversions: 2\n",
      "6\n",
      "Transversions: 2\n",
      "3\n",
      "Transversions: 2\n",
      "11\n",
      "Transversions: 1\n",
      "9\n",
      "Transversions: 1\n",
      "8\n",
      "Transversions: 1\n",
      "7\n",
      "Transversions: 1\n",
      "3\n",
      "Transversions: 2\n",
      "5\n",
      "Transversions: 0\n",
      "5\n",
      "Transversions: 0\n",
      "5\n",
      "Transversions: 0\n",
      "7\n",
      "Transversions: 1\n",
      "7\n",
      "Transversions: 3\n",
      "7\n",
      "Transversions: 2\n",
      "8\n",
      "Transversions: 1\n",
      "4\n",
      "Transversions: 1\n",
      "3\n",
      "Transversions: 1\n",
      "6\n",
      "Transversions: 1\n",
      "6\n",
      "Transversions: 0\n",
      "10\n",
      "Transversions: 1\n",
      "9\n",
      "Transversions: 2\n",
      "11\n",
      "Transversions: 4\n",
      "10\n",
      "Transversions: 3\n",
      "5\n",
      "Transversions: 1\n",
      "5\n",
      "Transversions: 2\n",
      "5\n",
      "Transversions: 1\n",
      "5\n",
      "Transversions: 2\n",
      "10\n",
      "Transversions: 3\n",
      "11\n",
      "Transversions: 1\n",
      "9\n",
      "Transversions: 1\n",
      "12\n",
      "Transversions: 5\n",
      "11\n",
      "Transversions: 1\n",
      "13\n",
      "Transversions: 6\n",
      "9\n",
      "Transversions: 4\n",
      "5\n",
      "Transversions: 0\n",
      "12\n",
      "Transversions: 2\n",
      "15\n",
      "Transversions: 3\n",
      "4\n",
      "Transversions: 0\n",
      "4\n",
      "Transversions: 0\n",
      "4\n",
      "Transversions: 0\n",
      "17\n",
      "Transversions: 3\n",
      "12\n",
      "Transversions: 2\n",
      "10\n",
      "Transversions: 3\n",
      "10\n",
      "Transversions: 5\n",
      "6\n",
      "Transversions: 2\n",
      "5\n",
      "Transversions: 1\n",
      "12\n",
      "Transversions: 6\n",
      "11\n",
      "Transversions: 3\n",
      "10\n",
      "Transversions: 3\n",
      "11\n",
      "Transversions: 3\n",
      "13\n",
      "Transversions: 6\n",
      "14\n",
      "Transversions: 3\n",
      "15\n",
      "Transversions: 4\n",
      "17\n",
      "Transversions: 2\n",
      "17\n",
      "Transversions: 2\n",
      "12\n",
      "Transversions: 0\n",
      "7\n",
      "Transversions: 2\n",
      "11\n",
      "Transversions: 3\n",
      "11\n",
      "Transversions: 4\n",
      "14\n",
      "Transversions: 1\n",
      "11\n",
      "Transversions: 3\n",
      "6\n",
      "Transversions: 2\n",
      "10\n",
      "Transversions: 1\n",
      "8\n",
      "Transversions: 2\n",
      "13\n",
      "Transversions: 4\n",
      "5\n",
      "Transversions: 1\n",
      "6\n",
      "Transversions: 2\n",
      "12\n",
      "Transversions: 1\n",
      "12\n",
      "Transversions: 4\n",
      "10\n",
      "Transversions: 3\n",
      "10\n",
      "Transversions: 3\n",
      "7\n",
      "Transversions: 1\n",
      "7\n",
      "Transversions: 5\n",
      "11\n",
      "Transversions: 3\n",
      "8\n",
      "Transversions: 2\n",
      "5\n",
      "Transversions: 1\n",
      "7\n",
      "Transversions: 2\n",
      "8\n",
      "Transversions: 2\n",
      "12\n",
      "Transversions: 3\n",
      "11\n",
      "Transversions: 2\n",
      "6\n",
      "Transversions: 1\n",
      "6\n",
      "Transversions: 3\n",
      "15\n",
      "Transversions: 0\n",
      "21\n",
      "Transversions: 7\n",
      "21\n",
      "Transversions: 3\n",
      "15\n",
      "Transversions: 7\n",
      "24\n",
      "Transversions: 7\n",
      "15\n",
      "Transversions: 7\n",
      "20\n",
      "Transversions: 9\n",
      "11\n",
      "Transversions: 4\n",
      "17\n",
      "Transversions: 5\n",
      "17\n",
      "Transversions: 7\n",
      "19\n",
      "Transversions: 9\n",
      "15\n",
      "Transversions: 6\n",
      "12\n",
      "Transversions: 5\n",
      "15\n",
      "Transversions: 3\n",
      "14\n",
      "Transversions: 3\n",
      "17\n",
      "Transversions: 8\n",
      "15\n",
      "Transversions: 6\n",
      "17\n",
      "Transversions: 8\n",
      "17\n",
      "Transversions: 11\n",
      "17\n",
      "Transversions: 4\n",
      "13\n",
      "Transversions: 4\n",
      "17\n",
      "Transversions: 9\n",
      "16\n",
      "Transversions: 7\n",
      "11\n",
      "Transversions: 4\n",
      "12\n",
      "Transversions: 4\n",
      "12\n",
      "Transversions: 4\n",
      "11\n",
      "Transversions: 4\n",
      "17\n",
      "Transversions: 7\n"
     ]
    },
    {
     "data": {
      "text/plain": [
       "[2.1639846612874945e-06,\n",
       " 7.285162474035465e-11,\n",
       " poly1d([ 2.16398466e-06, -8.41441648e-06])]"
      ]
     },
     "execution_count": 50,
     "metadata": {},
     "output_type": "execute_result"
    },
    {
     "data": {
      "image/png": "[encoded data removed]",
      "text/plain": [
       "<Figure size 640x480 with 1 Axes>"
      ]
     },
     "metadata": {},
     "output_type": "display_data"
    }
   ],
   "source": [
    "mutationDistanceScatterKimura(\"data/p1-sars-cov-2-variants.fasta\")"
   ]
  }
 ],
 "metadata": {
  "kernelspec": {
   "display_name": "Python 3.10.8 64-bit",
   "language": "python",
   "name": "python3"
  },
  "language_info": {
   "codemirror_mode": {
    "name": "ipython",
    "version": 3
   },
   "file_extension": ".py",
   "mimetype": "text/x-python",
   "name": "python",
   "nbconvert_exporter": "python",
   "pygments_lexer": "ipython3",
   "version": "3.10.8"
  },
  "orig_nbformat": 4,
  "vscode": {
   "interpreter": {
    "hash": "52634da84371cba311ea128a5ea7cdc41ff074b781779e754b270ff9f8153cee"
   }
  }
 },
 "nbformat": 4,
 "nbformat_minor": 2
}

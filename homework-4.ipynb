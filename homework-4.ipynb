{
 "cells": [
  {
   "cell_type": "markdown",
   "metadata": {},
   "source": [
    "# Homework 4: SARS-CoV-2 variants - How fast does the virus evolve?\n",
    "\n",
    "Viruses are not immune to mutations and evolution.\n",
    "During the pandemic, the SARS-CoV-2 virus mutated, evolved, and changed its characteristics, leaving us with various new strains and variants.\n",
    "\n",
    "\n",
    "The evolution of new strains is tied to their rate of mutation.\n",
    "Therefore, we must know how fast they mutate to understand their evolution.\n",
    "Their mutation rate is meaningless without some references; thus, we will compare it to the rate of mutations of other viruses.\n",
    "Apart from the rate, the location of mutations is vital for evolving new characteristics while preserving their viability.\n",
    "Some specific mutations give rise to a new variant, and we will be interested in where those mutations happen in different variants.\n",
    "Lastly, we will focus on Slovenia and its variant landscape throughout the pandemic."
   ]
  },
  {
   "cell_type": "code",
   "execution_count": 1,
   "metadata": {},
   "outputs": [],
   "source": [
    "import numpy as np          \n",
    "import pandas as pd         # for saving classification in P4\n",
    "from Bio import SeqIO       # for reading fasta files"
   ]
  },
  {
   "cell_type": "markdown",
   "metadata": {},
   "source": [
    "## Problem 1: Rate of mutation\n",
    "\n",
    "How fast is the SARS-CoV-2 virus evolving? Can we empirically determine the speed of mutation? We can! Most biologists are very meticulous with their experiments and carefully document when samples are collected. We can then take a bunch of viral genomes, select a reference genome (usually the first known occurrence of the virus), and calculate the number of mutations from the reference to the remaining viral genomes. We can then use this information in conjunction with the sample collection dates to estimate how fast the viruses are evolving.\n",
    "\n",
    "**Task:**\n",
    "Implement the `jukes_cantor` function in `helper_functions.py` to calculate the genetic distance using Hamming distance and Jukes-Cantor correction. Note that Jukes-Cantor correction ignores insertions and deletions.\n",
    "\n",
    "You have 211 SARS-CoV-2 genomes aligned to the reference (_NC_045512.2_).\n",
    "You can find their collection date and country in their fasta description.\n",
    "\n",
    "Find the first collected instance of SARS-CoV-2, i.e., the virus, with the earliest collection date. We'll use our NCBI reference (_NC_045512.2_) as a reference virus.\n",
    "You can use a pandas function `pd.to_datetime()` to convert collection dates into a Timestamp. Timestamps without the explicit day of the month will convert into the first day of the month.\n",
    "\n",
    "Calculate the genetic distance from the reference sequence to all other and plot its dependence on the time elapsed from this starting point.\n",
    "\n",
    "Create a scatterplot of viruses, where you put genetic distance on the y-axis and time in days (the number of days since the starting point) on your x-axis. The earliest sequence should be located at the origin (0, 0).\n",
    "Estimate the mutation rate using linear regression and overlay your plot with the regression line.\n",
    "\n",
    "Report the mutation rate per genome per day and save it into the `sars_cov_2_per_genome_per_day` variable. \n",
    "Report the mutation rate per nucleotide per day and save it into the `sars_cov_2_per_nt_per_day` variable. \n",
    "Save the resulting figure into `problem1.png`.\n",
    "\n",
    "**[10 points]** \n",
    "\n",
    "Hint: check out `np.polyfit` to fit the linear regression curve. Include your reference in the linear fit and account for the intersection when plotting your fit."
   ]
  },
  {
   "cell_type": "code",
   "execution_count": null,
   "metadata": {},
   "outputs": [],
   "source": [
    "from helper_functions import jukes_cantor"
   ]
  },
  {
   "cell_type": "code",
   "execution_count": null,
   "metadata": {},
   "outputs": [],
   "source": [
    "sars_cov_2_per_genome_per_day = 2.1637873131225614e-06\n",
    "sars_cov_2_per_nt_per_day = 7.285572271181647e-11"
   ]
  },
  {
   "cell_type": "markdown",
   "metadata": {},
   "source": [
    "## Problem 2: Mutation rate in other viruses\n",
    "\n",
    "We've estimated the regression slope to SARS-CoV-2. Now what? Does the plot indicate a fast mutation rate? Or a slow mutation rate? Or an average mutation rate? We really can only tell with a frame of reference. In this exercise, we will look at two more viruses from recent outbreaks, the Zaire ebolavirus, and Zika virus, and determine their mutation rate. These will help us get a sufficient reference for the speed at which viruses mutate.\n",
    "\n",
    "**Task:**\n",
    "Find the aligned sequences for Ebola and Zika virus in the `data/p2-ebola-viruses.fasta` and `data/p2-zika-viruses.fasta`.\n",
    "Use the first viral genomes in files as the reference, as these are the earliest known and sequenced viruses.\n",
    "Follow the same procedure as in Problem 1 to estimate the slope of the regression line. \n",
    "\n",
    "Since these viruses have been around longer than SARS-CoV-2, they are more diverse, and the distances between them may be longer.\n",
    "We observe this if the reference sequence is at the origin, but the others start much higher, i.e., the line fitting the remaining viruses doesn't go through the origin but is shifted higher up.\n",
    "In this case, ignore the reference sequence when fitting the regression lines.\n",
    "\n",
    "Report the genome and nucleotide rate of mutation of both viruses and save them into their corresponding variables (`ebola_per_genome_per_day`, `ebola_per_nt_per_day` and `zika_per_genome_per_day`, `zika_per_nt_per_day`).\n",
    "\n",
    "Given this reference frame, how fast is SARS-CoV-2 mutating? Which of those viruses sticks out in terms of the mutation rate? Examine the ratios of the slopes. Can you find anything on the internet that would corroborate these mutation rates? Write your observations into the `mutation_comments` variable.\n",
    "**[10 points]** \n",
    "\n",
    "**Why did we choose these two reference viruses?** SARS-CoV-2 is in a unique position where it is a worldwide phenomenon and warranted a global response in the past. As such, SARS-CoV-2 is most likely the most well-documented and tracked virus of all time. Even five years ago, sequencing on this scale would have been impossible. This creates a problem when we want to compare the mutation rate with other viruses. We need reference viruses that have gone through a similar lifecycle to SARS-CoV-2 and need to be recent enough such that sufficient sequencing data is available to estimate the slopes correctly. Unfortunately for us (but thankfully for humanity), only a handful of viruses fit this description (https://en.wikipedia.org/wiki/List_of_epidemics). Additionally, some developing countries still need the technological or economic capability to carry out this kind of sequencing on a large scale, making reliable data challenging to come by. We have chosen the Ebola virus and Zika virus, as their sequencing data is more or less reliable and plentiful enough."
   ]
  },
  {
   "cell_type": "code",
   "execution_count": null,
   "metadata": {},
   "outputs": [],
   "source": [
    "ebola_per_genome_per_day = 2.0918446638690037e-06\n",
    "ebola_per_nt_per_day = 1.1268893303178386e-10\n",
    "\n",
    "zika_per_genome_per_day = 3.1971576332302502e-06\n",
    "zika_per_nt_per_day = 3.012491880929285e-10"
   ]
  },
  {
   "cell_type": "code",
   "execution_count": null,
   "metadata": {},
   "outputs": [],
   "source": [
    "mutation_comments = \"\"\"\n",
    "    Comparing SarsCov2 only to Zika and Ebola shows us that covid is mutating slower, it also has less mutations per nucleotide than both viruses. \n",
    "    Zika virus stands out as it is the one that mutates the fastest compared to Ebola and SarsCov2. SarsCov2s slow mutation rate could be atributed to its self correcting mechanism.\n",
    "\"\"\""
   ]
  },
  {
   "cell_type": "markdown",
   "metadata": {},
   "source": [
    "## Problem 3: Variant-specific mutations\n",
    "\n",
    "As the virus mutates, it inevitably evolves and proliferates around the world. Every so often, some mutations may prove especially beneficial to the spread of the virus, and this version of the virus spreads faster than other versions. When a version of a virus becomes especially prevalent inside a population, we call this a virus *variant*. Variants are nothing more than a naming scheme for viruses that have specific mutations. For instance, in Slovenia, we are currently dealing with the Omicron variant. Think of this as observing natural selection in real time. Some viruses have mutations that enable them to spread more easily throughout our population, which inevitably leads to the demise of other virus variants, which are not as good at proliferation. The result is survival of the fittest at the viral level, where, unfortunately, the fittest viruses seem to cause the most damage to us humans.\n",
    "\n",
    "How do we identify variants? A variant is determined by several so-called *defining mutations*. Mutations can either be synonymous or nonsynonymous. Synonymous mutations are changes in nucleotide bases that result in the same encoded amino acid and are thus less important. Nonsynonymous mutations are nucleotide mutations that alter the amino acid sequence of a protein.\n",
    "\n",
    "To determine mutations, we first have to select a reference genome, which we will say has no mutations. In most cases, this is the first known occurrence of the virus, but in our case, the reference NCBI genome from Wuhan in 2019 (_NC_045512.2_).\n",
    "Then, we align each viral genome of interest to this reference genome. All the differences between the reference genome and the genome of interest are said to be mutations.\n",
    "\n",
    "To get a sense of the distribution of mutations across the genome in a variant, we will observe the most common mutations in **Alpha** (20I (Alpha, V1)) and **Delta** (21A (Delta)) variants. We will then try to answer whether the Delta variant emerged from the Alpha variant or evolved independently from a different strain of the virus.\n",
    "\n",
    "**Task:**\n",
    "Use pre-aligned sequences from the file `data/p1-sars-cov-2-variants.fasta`. To facilitate indexing, the reference sequence in the alignment has no indels. Extract the Alpha and Delta variants according to the indices in lists `alpha_variants` and `delta_variants`, respectively.\n",
    "\n",
    "Calculate the Hamming distance between each sequence and the reference. For both variants, the average mutation rate for each nucleotide to get an array of mutation occurrences between 0 and 1.\n",
    "\n",
    "Plot the mutation occurrences across the whole genome for the Alpha and Delta variants separately on one figure. Use _plt.plot_ to show the mutation occurrence. Focus on the part of the genome above the 20000 nucleotides and mark locations of the SARS-CoV-2 genes. You can find gene locations in the `gene_locations` variable. Expect a few sites with occurrence one and the rest close to zero.\n",
    "\n",
    "We say a mutation is vital if its occurrence is higher than 0.5. Find all vital mutations in the spike gene (\"S\") and compare results between variants. There are a few sites where both variants mutated, but only one where the same mutation occurred.\n",
    "\n",
    "Store your plot in the `problem3.png` and make it visually appealing.\n",
    "Find indices of each site on the S gene where mutations occurred in both variants. Store integer sites into a `mutations_in_both_variants` variable where the site refers to the nucleotide in the reference genome.\n",
    "Store the only same mutation into the `same_mutation` variable as a string denoting reference nucleotide, mutation site, and the variant nucleotide (e.g. \"G123A\", where G on position 123 in the reference mutates into an A.)\n",
    "\n",
    "Write your comments in the `variant_comments` variable. Did the Delta variant evolve from Alpha? Why are there mutations that are not present in both variants? Why are they not distributed uniformly? What can we say about sites with no detected mutations?\n",
    "\n",
    "**[10 points]**"
   ]
  },
  {
   "cell_type": "code",
   "execution_count": null,
   "metadata": {},
   "outputs": [],
   "source": [
    "gene_locations = {\n",
    "    'S': (21462, 25284),\n",
    "    'E': (26144, 26372),\n",
    "    'M': (26422, 27091),\n",
    "    'N': (28173, 29433)\n",
    "}\n",
    "\n",
    "alpha_variants  = ['EPI_ISL_2789189', 'EPI_ISL_2789042', 'EPI_ISL_1491060', 'EPI_ISL_1402029', 'EPI_ISL_6950370',\n",
    "                    'EPI_ISL_1625411', 'EPI_ISL_1335421', 'EPI_ISL_2644151', 'EPI_ISL_2982899', 'EPI_ISL_2644156',\n",
    "                    'EPI_ISL_2788965', 'EPI_ISL_2789059', 'EPI_ISL_2532608', 'EPI_ISL_2644516', 'EPI_ISL_2886579',\n",
    "                    'EPI_ISL_3316487', 'EPI_ISL_2886574', 'EPI_ISL_2532626', 'EPI_ISL_2886496', 'EPI_ISL_2492172',\n",
    "                    'EPI_ISL_2644108', 'EPI_ISL_1402024', 'EPI_ISL_2492224', 'EPI_ISL_2491984', 'EPI_ISL_2789018',\n",
    "                    'EPI_ISL_2886831', 'EPI_ISL_1491132', 'EPI_ISL_2492034', 'EPI_ISL_1266392', 'EPI_ISL_2983056']\n",
    "\n",
    "delta_variants = ['EPI_ISL_3039380', 'EPI_ISL_4271386', 'EPI_ISL_5213082', 'EPI_ISL_3316705','EPI_ISL_3316997',\n",
    "                    'EPI_ISL_4251175', 'EPI_ISL_3471254', 'EPI_ISL_4271571', 'EPI_ISL_4270964', 'EPI_ISL_3317189',\n",
    "                    'EPI_ISL_3829145', 'EPI_ISL_3317102', 'EPI_ISL_4923915', 'EPI_ISL_3829384', 'EPI_ISL_4923898',\n",
    "                    'EPI_ISL_4270689', 'EPI_ISL_4270627', 'EPI_ISL_3828666', 'EPI_ISL_4253193', 'EPI_ISL_3828993',\n",
    "                    'EPI_ISL_3039412', 'EPI_ISL_4923029', 'EPI_ISL_4251446', 'EPI_ISL_4271300', 'EPI_ISL_4271597',\n",
    "                    'EPI_ISL_4271322', 'EPI_ISL_4922967', 'EPI_ISL_4251202', 'EPI_ISL_4251164', 'EPI_ISL_4270961',\n",
    "                    'EPI_ISL_4270530', 'EPI_ISL_4270924', 'EPI_ISL_3829530', 'EPI_ISL_3828321', 'EPI_ISL_4271408',\n",
    "                    'EPI_ISL_4271598', 'EPI_ISL_4924026', 'EPI_ISL_3316743']"
   ]
  },
  {
   "cell_type": "code",
   "execution_count": null,
   "metadata": {},
   "outputs": [],
   "source": [
    "mutations_in_both_variants = [23302,23503]\n",
    "same_mutation = \"A23302G\" # write your mutation in the form of f\"{reference nt}{site number}{variant nt}\""
   ]
  },
  {
   "cell_type": "code",
   "execution_count": null,
   "metadata": {},
   "outputs": [],
   "source": [
    "variant_comments=\"\"\"\n",
    "    Since there is a low ammount of vital mutations in both variants I would say delta evolved independently. \n",
    "    Sites with no detected mutations are part of original sequence dna.\n",
    "\"\"\""
   ]
  },
  {
   "cell_type": "markdown",
   "metadata": {},
   "source": [
    "## Problem 4: Identifying variants\n",
    "\n",
    "As we've seen, mutations are not distributed uniformly across the genome. Important mutations at specific sites distinguish variants from each other. Nonsynonymous mutations are the ones reflected in the proteins they produce.\n",
    "\n",
    "A standard convention is to denote mutations using a short string, e.g., *S:T 19 R*. The first part denotes the protein where the mutation has occurred. The second part is comprised of the actual mutation. For instance, *S:T 19 R* means that we are looking at a mutation on the S -- spike protein, where the original amino acid at location 19 was T -- threonine, which changed to R -- arginine. The \"-\" symbol indicates a deletion (e.g., *S:H 69 -*). For a complete reference of SARS-CoV-2 mutations, you can take a look at https://covariants.org and look through the different variants. We will not consider insertions in this homework, as it would only complicate our lives.\n",
    "\n",
    "The folks over at the Clinical Institute of Special Laboratory Diagnostics have been kind enough to provide us with SARS-CoV-2 sequences from Slovenia for more than two years of the pandemic. In this homework, we will take a handful of these SARS-CoV-2 genomes from Slovenia and look at how the different variants spread throughout our country over time.\n",
    "We will again focus on the spike protein sequence as this will speed up computation.\n",
    "Additionally, the spike protein sequence is the most interesting in terms of variants, as mutations on the spike protein directly affect its ability to spread throughout our population and potentially get around our vaccination efforts.\n",
    "\n",
    "**Task**\n",
    "\n",
    "You have 747 pre-aligned SARS-CoV-2 spike protein sequences collected from Slovenia at various time points (`data/p4-slo-spike-proteins.fasta`). Your job is to determine the variant of each spike protein sequence. We have also prepared a JSON file (*variants.json*) containing all the information on SARS-CoV-2 variants that you'll need in this homework. Use the variant names and nonsynonymous mutations defined in this file for your classification. We have removed some of the variants for the purposes of this homework.\n",
    "\n",
    "Your task is to look through each of the provided SARS-Cov-2 sequences and assign it to a variant.\n",
    "To assign a variant, count the number of corresponding mutations on the spike protein sequence.\n",
    "Assign the variant to a sequence with the highest percentage of matching mutations to a given variant. If all the variants have a match rate lower or equal to 50%, then you should assign the genome to the *UNKNOWN* class. If a sequence has no mutations, assign it to the *NO_MUTATIONS* class. If there is a tie, assign whichever variant. Save your answers to `problem4-classification.csv`. This file should contain two columns. The first column should indicate the accession id, e.g., *EPI_ISL_635200*, while the second column should indicate the variant display name (as specified in variants.json), e.g., *20I (Alpha, V1)* or *21K (Omicron)*. The CSV file should have no header. **[5 points]**\n",
    "\n",
    "After you have assigned all the sequences to a variant, create a plot showing the change in distribution over time. More concretely, we have given you up to 30 sequences per month. Calculate the percentage of each variant in each month, and plot the distribution over time. Your plots should resemble https://covariants.org/per-country, which you can use to validate your work. Note that your plot will probably have a lot of *UNKNOWN* viral assignments. Save your figure into `problem4.png`. **[5 points]** \n",
    "\n",
    "**Hints**: Use [`plt.stackplot`](https://matplotlib.org/3.1.1/api/_as_gen/matplotlib.pyplot.stackplot.html) for plotting. You might also find the pandas [`Grouper`](https://pandas.pydata.org/docs/reference/api/pandas.Grouper.html) class helpful when calculating percentages per month.\n",
    "\n",
    "We will use a function `pd.read_csv(\"problem4-classification.csv\", sep=\",\", header=None)` to read your classification file, so you can test the correct format.\n",
    "\n",
    "**Notes**:\n",
    "\n",
    "1. Due to the fast nature of the sequencing done in these sequences, some sequences may contain the character \"X\". This character does not denote some new amino acid but means that the sequencing was ambiguous and/or that the amino acid wasn't able to be determined. Ignore any positions with the \"X\" character, and do not count them toward mutations.\n",
    "\n",
    "3. Although you could perform the alignment yourself with the algorithms you implemented in Homework 2, in this exercise, we have already pre-aligned the viral genomes for you to avoid any long-running computation. In this homework, we will only consider substitutions and deletions, and we will ignore insertions. Insertions would needlessly complicate mutation indexing. Additionally, almost none of the variants for SARS-CoV-2 are determined by insertions, so we can ignore them."
   ]
  },
  {
   "cell_type": "markdown",
   "metadata": {},
   "source": [
    "## Bonus 1: Kimura two-parameter correction (K2P)\n",
    "\n",
    "Kimura's two-parameter model is a more elaborate approach to correcting genetic distances. It assumes that transitions are four times less likely to occur than transversion, thus weighing those substitutions differently. The model still ignores insertions and deletions.\n",
    "\n",
    "**Task:**\n",
    "Implement `kimura_two_parameter` in the `helper_functions.py` to calculate the Kimura correction of genetic distance.\n",
    "Recalculate the mutation rate for SARS-CoV-2 as in Problem 1, this time with Kimura's corrected distances. Follow the same protocol from Problem 1 and store both mutation rates into their appropriate variables `sars_cov_2_per_genome_per_day_kp2` and `sars_cov_2_per_nt_per_day_k2p`, respectively.\n",
    "Comment on the difference between Jukes-Cantor and Kimura corrections and how this difference shows in our case. Save your comment into the `kimura_comment` variable.\n",
    "**[10 points]**"
   ]
  },
  {
   "cell_type": "code",
   "execution_count": null,
   "metadata": {},
   "outputs": [],
   "source": [
    "from helper_functions import kimura_two_parameter"
   ]
  },
  {
   "cell_type": "code",
   "execution_count": 2,
   "metadata": {},
   "outputs": [],
   "source": [
    "sars_cov_2_per_genome_per_day_kp2 = 2.1639846612874945e-06\n",
    "sars_cov_2_per_nt_per_day_k2p = 7.285162474035465e-11"
   ]
  },
  {
   "cell_type": "code",
   "execution_count": 3,
   "metadata": {},
   "outputs": [],
   "source": [
    "kimura_comment = \"\"\" Kimura assumes that transitions occur at diffrent rate than transversions, meanwhile in Jukes-Cantor case both transitions and transversion occur with the same likelyhood. \n",
    "In our case the diference is very minimal. \n",
    "\"\"\""
   ]
  }
 ],
 "metadata": {
  "kernelspec": {
   "display_name": "Python 3.10.8 64-bit",
   "language": "python",
   "name": "python3"
  },
  "language_info": {
   "codemirror_mode": {
    "name": "ipython",
    "version": 3
   },
   "file_extension": ".py",
   "mimetype": "text/x-python",
   "name": "python",
   "nbconvert_exporter": "python",
   "pygments_lexer": "ipython3",
   "version": "3.10.8 (tags/v3.10.8:aaaf517, Oct 11 2022, 16:50:30) [MSC v.1933 64 bit (AMD64)]"
  },
  "orig_nbformat": 4,
  "vscode": {
   "interpreter": {
    "hash": "52634da84371cba311ea128a5ea7cdc41ff074b781779e754b270ff9f8153cee"
   }
  }
 },
 "nbformat": 4,
 "nbformat_minor": 2
}
